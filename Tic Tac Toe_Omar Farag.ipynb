{
 "cells": [
  {
   "cell_type": "code",
   "execution_count": 10,
   "metadata": {},
   "outputs": [],
   "source": [
    "# this func is to welcome to the game and to define the first player , still needs validations\n",
    "def welcomemsg ():\n",
    "    print ('Hello let\\'s challenge in X & O Game !')\n",
    "    print ('Choose the first player')\n",
    "    print ('*'*20)\n",
    "    print ('*'*20)\n",
    "    print ('Choose 1 to be the first player to start or 2 to be the second one')\n",
    "    print ('Enter the number please (1 or 2) : ')\n",
    "    while True: \n",
    "        a = int(input())\n",
    "        if a==1 or a==2:\n",
    "            return a\n",
    "            break \n",
    "        else :\n",
    "            print('Wrong choice! please,enter a valid number(1 or 2)')\n",
    "                   "
   ]
  },
  {
   "cell_type": "code",
   "execution_count": 11,
   "metadata": {},
   "outputs": [],
   "source": [
    "# is to show both the board numbers and the board game\n",
    "def show_board (board):\n",
    "    b=board\n",
    "    print('|'+'0'+'|'+'1'+'|'+'2'+'|')\n",
    "    print('|'+'3'+'|'+'4'+'|'+'5'+'|')\n",
    "    print('|'+'6'+'|'+'7'+'|'+'8'+'|')\n",
    "    print('')\n",
    "\n",
    "    print('|',b[0],'|',b[1],'|',b[2],'|')\n",
    "    print('|',b[3],'|',b[4],'|',b[5],'|')\n",
    "    print('|',b[6],'|',b[7],'|',b[8],'|')"
   ]
  },
  {
   "cell_type": "code",
   "execution_count": 12,
   "metadata": {},
   "outputs": [],
   "source": [
    "# is to take the next move based on the player turn\n",
    "def playgame (plyn,board):\n",
    "    \n",
    "    while True:\n",
    "            if plyn ==1:\n",
    "                print(\"your turn, you are the 'X' sign \")\n",
    "                show_board(board)\n",
    "                print ('Choose your next cell from digits (0-8) as shown above!!')\n",
    "                print ('!!! Enter ( 10 ) if you want to finish this game')\n",
    "                p1_nxtmov=int((input()))\n",
    "                if (0<=p1_nxtmov<=8) and board[p1_nxtmov]=='-':\n",
    "                    return plyn,p1_nxtmov\n",
    "                elif p1_nxtmov==10:\n",
    "                    return plyn,p1_nxtmov\n",
    "                else:\n",
    "                    print('invalid input, try again')\n",
    "            else :\n",
    "                from random import randint\n",
    "                p2_nxtmov=randint(0,8)\n",
    "                if board[p2_nxtmov]=='-':\n",
    "                    print('Player 2 turn')\n",
    "                    print('player 2 played')\n",
    "                    return plyn,p2_nxtmov"
   ]
  },
  {
   "cell_type": "code",
   "execution_count": 13,
   "metadata": {},
   "outputs": [],
   "source": [
    "#is to update the board based on the last player's move\n",
    "def change_board (plyn,board,nxtmov):\n",
    "    nboard=board\n",
    "    if plyn==1:\n",
    "        nboard[nxtmov]='x'\n",
    "        nxtplyr=2\n",
    "        return plyn,nboard,nxtplyr\n",
    "    else:\n",
    "        nboard[nxtmov]='o'\n",
    "        nxtplyr=1\n",
    "        return plyn,nboard,nxtplyr\n",
    "        "
   ]
  },
  {
   "cell_type": "code",
   "execution_count": 14,
   "metadata": {},
   "outputs": [],
   "source": [
    "#is to check the status of the board after each play, if there is a winner, in the game is draw or if the game has to be continue\n",
    "def checkwinner(plyn,board):\n",
    "    if board[0]==board[1]==board[2]!='-' or board[3]==board[4]==board[5]!='-' or board[6]==board[7]==board[8]!='-' or board[0]==board[3]==board[6]!='-' or board[1]==board[4]==board[7]!='-' or board[2]==board[5]==board[8]!='-' or board[2]==board[4]==board[6]!='-' or board[0]==board[4]==board[8]!='-':\n",
    "        print ('Player number {} is the winner'.format(plyn))\n",
    "        iswinner=1\n",
    "        return plyn,board,iswinner\n",
    "        \n",
    "    elif '-' not in board:\n",
    "        print ('Draw Game!!')\n",
    "        iswinner=1\n",
    "        return plyn,board,iswinner\n",
    "    \n",
    "    else:\n",
    "        if plyn==1:\n",
    "            nxtplyr=2\n",
    "            iswinner=0\n",
    "        else:\n",
    "            nxtplyr=1\n",
    "            iswinner=0\n",
    "        return nxtplyr,board,iswinner"
   ]
  },
  {
   "cell_type": "code",
   "execution_count": 15,
   "metadata": {},
   "outputs": [],
   "source": [
    "#neeeeed to be modified\n",
    "def play_again ():\n",
    "    a='-'\n",
    "    while a==\"-\":\n",
    "            print ('If you want to play again')\n",
    "            print('for yes type 1, for exit type 2')\n",
    "            a = int(input())\n",
    "            if a==1: \n",
    "                return True\n",
    "            elif a==2:\n",
    "                return False\n",
    "            else:\n",
    "                print('Please enter a valid choice')"
   ]
  },
  {
   "cell_type": "code",
   "execution_count": 16,
   "metadata": {},
   "outputs": [],
   "source": [
    "#to run the game with all funcs demostrated above\n",
    "def runxogame():\n",
    "    global fboard\n",
    "    global chngplyr\n",
    "    global iswinner\n",
    "    iswinner=0\n",
    "    fboard =['-','-','-','-','-','-','-','-','-']\n",
    "    chngplyr=welcomemsg ()\n",
    "    while iswinner!=3:\n",
    "        if iswinner==0 :\n",
    "                lstback1= playgame (chngplyr,fboard)\n",
    "                # playgame method return player number and the next move.\n",
    "                if lstback1[1]==10:\n",
    "                    print ('Ohh, Sorry for losting you!')\n",
    "                    iswinner=4\n",
    "                else:\n",
    "                    lstback2=change_board (lstback1[0],fboard,lstback1[1])\n",
    "                    # change_board method return player number ,the updated board and the next player.\n",
    "                    fboard=lstback2[1]\n",
    "                    lstback3=checkwinner(lstback2[0],lstback2[1])\n",
    "                    # checkwinner method return the next player ,the board and the winner status.\n",
    "                    iswinner=lstback3[2]\n",
    "                    chngplyr=lstback3[0]\n",
    "                    \n",
    "                \n",
    "        else:\n",
    "            if play_again ():\n",
    "                print('*'*10)\n",
    "                print('*'*10)\n",
    "                print('Wooow, New Game!')\n",
    "                fboard =['-','-','-','-','-','-','-','-','-']\n",
    "                chngplyr=welcomemsg ()\n",
    "                iswinner=0 \n",
    "                \n",
    "            else:\n",
    "                iswinner=3\n",
    "                print(\"Hope you 've enjoyed the game! , Thank You\")\n"
   ]
  },
  {
   "cell_type": "code",
   "execution_count": 17,
   "metadata": {},
   "outputs": [
    {
     "name": "stdout",
     "output_type": "stream",
     "text": [
      "Hello let's challenge in X & O Game !\n",
      "Choose the first player\n",
      "********************\n",
      "********************\n",
      "Choose 1 to be the first player to start or 2 to be the second one\n",
      "Enter the number please (1 or 2) : \n",
      "1\n",
      "your turn, you are the 'X' sign \n",
      "|0|1|2|\n",
      "|3|4|5|\n",
      "|6|7|8|\n",
      "\n",
      "| - | - | - |\n",
      "| - | - | - |\n",
      "| - | - | - |\n",
      "Choose your next cell from digits (0-8) as shown above!!\n",
      "!!! Enter ( 10 ) if you want to finish this game\n",
      "10\n",
      "Ohh, Sorry for losting you!\n",
      "If you want to play again\n",
      "for yes type 1, for exit type 2\n",
      "2\n",
      "Hope you 've enjoyed the game! , Thank You\n"
     ]
    }
   ],
   "source": [
    "runxogame()"
   ]
  },
  {
   "cell_type": "code",
   "execution_count": 9,
   "metadata": {},
   "outputs": [],
   "source": [
    "## runxogame()\n"
   ]
  },
  {
   "cell_type": "markdown",
   "metadata": {},
   "source": [
    "### "
   ]
  }
 ],
 "metadata": {
  "kernelspec": {
   "display_name": "Python 3",
   "language": "python",
   "name": "python3"
  },
  "language_info": {
   "codemirror_mode": {
    "name": "ipython",
    "version": 3
   },
   "file_extension": ".py",
   "mimetype": "text/x-python",
   "name": "python",
   "nbconvert_exporter": "python",
   "pygments_lexer": "ipython3",
   "version": "3.7.4"
  }
 },
 "nbformat": 4,
 "nbformat_minor": 2
}
